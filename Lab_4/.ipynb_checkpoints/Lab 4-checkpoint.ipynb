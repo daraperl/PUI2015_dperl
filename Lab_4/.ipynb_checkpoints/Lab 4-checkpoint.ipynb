{
 "cells": [
  {
   "cell_type": "code",
   "execution_count": 1,
   "metadata": {
    "collapsed": false
   },
   "outputs": [
    {
     "name": "stdout",
     "output_type": "stream",
     "text": [
      "Populating the interactive namespace from numpy and matplotlib\n"
     ]
    }
   ],
   "source": [
    "import pylab as pl\n",
    "import pandas as pd\n",
    "import numpy as np\n",
    "%pylab inline\n",
    "import os\n",
    "import json"
   ]
  },
  {
   "cell_type": "code",
   "execution_count": 3,
   "metadata": {
    "collapsed": false
   },
   "outputs": [],
   "source": [
    "#read citibike dataset from January 2015\n",
    "df = pd.read_csv('201501-citibike-tripdata.csv')"
   ]
  },
  {
   "cell_type": "code",
   "execution_count": 7,
   "metadata": {
    "collapsed": false
   },
   "outputs": [
    {
     "data": {
      "text/plain": [
       "array(['Subscriber', 'Customer'], dtype=object)"
      ]
     },
     "execution_count": 7,
     "metadata": {},
     "output_type": "execute_result"
    }
   ],
   "source": [
    "df['ageL'] = 2015 - df['birth year'][(df['usertype']=='Subscriber') & (df['tripduration']>=3000)]\n",
    "df['ageS'] = 2015 - df['birth year'][(df['usertype']=='Subscriber') & (df['tripduration']<3000)]\n",
    "\n",
    "#df.head\n",
    "#pd.unique(df.usertype)"
   ]
  },
  {
   "cell_type": "code",
   "execution_count": 21,
   "metadata": {
    "collapsed": false
   },
   "outputs": [
    {
     "name": "stdout",
     "output_type": "stream",
     "text": [
      "KS 0.0569347918508\n"
     ]
    },
    {
     "data": {
      "image/png": "[encoded data removed]",
      "text/plain": [
       "<matplotlib.figure.Figure at 0x10aeb6e10>"
      ]
     },
     "metadata": {},
     "output_type": "display_data"
    }
   ],
   "source": [
    "#bin by age\n",
    "bins = np.arange(0,99,10)\n",
    "\n",
    "#aggregate of ages\n",
    "ag1 = df.ageS.groupby(pd.cut(df.ageS, bins)).agg([count_nonzero])\n",
    "ag2 = df.ageS.groupby(pd.cut(df.ageS, bins)).agg([count_nonzero])\n",
    "#ag1.plot(kind = 'bar')\n",
    "#ag2.plot(kind = 'bar')\n",
    "\n",
    "#cumulative sums in each age group\n",
    "cs1 = df.ageS.groupby(pd.cut(df.ageS, bins)).agg([count_nonzero]).cumsum()\n",
    "cs2 = df.ageL.groupby(pd.cut(df.ageL, bins)).agg([count_nonzero]).cumsum()\n",
    "#cs1.plot(kind = 'bar')\n",
    "#cs2.plot(kind = 'bar')\n",
    "\n",
    "#printdf.ageS\n",
    "#print pd.cut(df['ageS'],bins)\n",
    "#print df.ageS.groupby(pd.cut(df.ageS, bins)).first()\n",
    "#print df.ageS.groupby(pd.cut(df.ageS,bins)).agg([count_nonzero]) #number of people that fall into bins\n",
    "#print df.ageS.groupby(pd.cut(df.ageS,bins)).agg([count_nonzero]).cumsum()\n",
    "\n",
    "pl.plot(bins[:-1]+5, cs1/cs1.max()) #+5 makes everything fall in the center of the bin\n",
    "pl.plot(bins[:-1]+5, cs2/cs2.max())\n",
    "#seeing if the people are distributed the same way\n",
    "KS = np.nanmax(np.array(cs1/cs1.max())- np.array(cs2/cs2.max()))\n",
    "print \"KS\", KS"
   ]
  },
  {
   "cell_type": "code",
   "execution_count": null,
   "metadata": {
    "collapsed": true
   },
   "outputs": [],
   "source": []
  }
 ],
 "metadata": {
  "kernelspec": {
   "display_name": "Python 2",
   "language": "python",
   "name": "python2"
  },
  "language_info": {
   "codemirror_mode": {
    "name": "ipython",
    "version": 2
   },
   "file_extension": ".py",
   "mimetype": "text/x-python",
   "name": "python",
   "nbconvert_exporter": "python",
   "pygments_lexer": "ipython2",
   "version": "2.7.10"
  }
 },
 "nbformat": 4,
 "nbformat_minor": 0
}
