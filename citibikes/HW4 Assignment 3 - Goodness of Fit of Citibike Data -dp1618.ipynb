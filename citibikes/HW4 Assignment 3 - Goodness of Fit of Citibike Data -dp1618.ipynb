{
 "cells": [
  {
   "cell_type": "markdown",
   "metadata": {},
   "source": [
    "#Goodness of Fit Assignment - Citibike Data\n",
    "\n",
    "Author: dp1618"
   ]
  },
  {
   "cell_type": "code",
   "execution_count": 2,
   "metadata": {
    "collapsed": false
   },
   "outputs": [
    {
     "name": "stdout",
     "output_type": "stream",
     "text": [
      "Populating the interactive namespace from numpy and matplotlib\n"
     ]
    }
   ],
   "source": [
    "import os\n",
    "import pylab as pl\n",
    "import pandas as pd\n",
    "import numpy as np\n",
    "%pylab inline\n",
    "import scipy.stats"
   ]
  },
  {
   "cell_type": "markdown",
   "metadata": {},
   "source": [
    "test if the distribution of ages can be modelled by a Gaussian\n",
    "\n",
    "1) all riders\n",
    "\n",
    "2) summer riders vs winder riders\n"
   ]
  },
  {
   "cell_type": "code",
   "execution_count": 3,
   "metadata": {
    "collapsed": false
   },
   "outputs": [],
   "source": [
    "dfjan = pd.read_csv('2014-01 - Citi Bike trip data.csv')\n",
    "dffeb = pd.read_csv('2014-02 - Citi Bike trip data.csv')\n",
    "dfmar = pd.read_csv('2014-03 - Citi Bike trip data.csv')\n",
    "dfapr = pd.read_csv('2014-04 - Citi Bike trip data.csv')\n",
    "dfmay = pd.read_csv('2014-05 - Citi Bike trip data.csv')\n",
    "dfjun = pd.read_csv('2014-06 - Citi Bike trip data.csv')\n",
    "dfjul = pd.read_csv('2014-07 - Citi Bike trip data.csv')\n",
    "dfaug = pd.read_csv('2014-08 - Citi Bike trip data.csv')\n",
    "dfsep = pd.read_csv('201409-citibike-tripdata.csv')\n",
    "dfoct = pd.read_csv('201410-citibike-tripdata.csv')\n",
    "dfnov = pd.read_csv('201411-citibike-tripdata.csv')\n",
    "dfdec = pd.read_csv('201412-citibike-tripdata.csv')"
   ]
  },
  {
   "cell_type": "code",
   "execution_count": 4,
   "metadata": {
    "collapsed": false
   },
   "outputs": [],
   "source": [
    "#create 2 data frames which concatenate the winter/fall and spring/summer files\n",
    "frames = [dfjan, dffeb, dfsep, dfoct, dfnov, dfdec]\n",
    "dffw = pd.concat(frames)\n",
    "\n",
    "\n",
    "frames = [dfmar, dfapr, dfmay, dfjun, dfjul, dfaug]\n",
    "dfss = pd.concat(frames)\n"
   ]
  },
  {
   "cell_type": "code",
   "execution_count": 5,
   "metadata": {
    "collapsed": false
   },
   "outputs": [],
   "source": [
    "#remove the customers from the list (customers don't have birth years)\n",
    "dffw_sub = dffw[dffw['usertype'] == 'Subscriber'].copy()\n",
    "dfss_sub = dfss[dfss['usertype'] == 'Subscriber'].copy()"
   ]
  },
  {
   "cell_type": "code",
   "execution_count": 6,
   "metadata": {
    "collapsed": false
   },
   "outputs": [],
   "source": [
    "#replace birth years of '\\\\N' with NaN which can be handled by the float type\n",
    "dfss_sub['birth year'].replace({'\\\\N': np.nan}, inplace=True)\n",
    "dffw_sub['birth year'].replace({'\\\\N': np.nan}, inplace=True)"
   ]
  },
  {
   "cell_type": "code",
   "execution_count": 7,
   "metadata": {
    "collapsed": false
   },
   "outputs": [],
   "source": [
    "#convert the birth year column to a float type (from object)\n",
    "dfss_sub['birth year'] = dfss_sub['birth year'].convert_objects(convert_numeric = True)\n",
    "dffw_sub['birth year'] = dffw_sub['birth year'].convert_objects(convert_numeric = True)"
   ]
  },
  {
   "cell_type": "code",
   "execution_count": 8,
   "metadata": {
    "collapsed": false
   },
   "outputs": [],
   "source": [
    "#Get the age\n",
    "dfss_sub['age'] = 2015-dfss_sub['birth year']\n",
    "dffw_sub['age'] = 2015-dffw_sub['birth year']"
   ]
  },
  {
   "cell_type": "code",
   "execution_count": 9,
   "metadata": {
    "collapsed": false
   },
   "outputs": [
    {
     "name": "stdout",
     "output_type": "stream",
     "text": [
      "[  73.   55.   31.   30.   38.   32.   33.   40.   21.   28.   67.   29.\n",
      "   35.   51.   26.   24.   23.   50.   27.   41.   25.   57.   42.   39.\n",
      "   37.   44.   45.   34.   58.   36.   46.   61.   43.   52.   48.   49.\n",
      "   65.   59.   19.   22.   47.   20.   54.   70.   68.   63.   60.   77.\n",
      "   56.   64.   53.   18.   62.   66.   69.   71.   79.   74.   75.   93.\n",
      "   72.  115.   76.   81.   78.  105.   80.   83.   88.  114.  116.   86.\n",
      "   94.   98.   82.   91.   89.  102.   17.   95.  108.   84.   nan   85.]\n",
      "[  29.   52.   24.   26.   25.   28.   32.   43.   34.   47.   39.   35.\n",
      "   42.   33.   44.   31.   48.   58.   45.   49.   59.   56.   50.   38.\n",
      "   37.   40.   53.   55.   30.   46.   36.   27.   54.   62.   51.   41.\n",
      "   57.  115.   21.   61.   18.   67.   66.   19.   64.   60.   20.   22.\n",
      "   23.   63.   72.   77.   70.   65.   69.   71.   68.   75.  116.   74.\n",
      "   73.   82.   98.   76.   81.   88.   80.   79.   83.   93.   86.  114.\n",
      "  105.   78.   84.   95.   89.   94.  108.  102.   17.   nan   85.   90.]\n"
     ]
    }
   ],
   "source": [
    "#see what ages are in each dataframe\n",
    "print pd.unique(dfss_sub['age'])\n",
    "print pd.unique(dffw_sub['age'])"
   ]
  },
  {
   "cell_type": "code",
   "execution_count": 10,
   "metadata": {
    "collapsed": false
   },
   "outputs": [
    {
     "name": "stdout",
     "output_type": "stream",
     "text": [
      "[  73.   55.   31.   30.   38.   32.   33.   40.   21.   28.   67.   29.\n",
      "   35.   51.   26.   24.   23.   50.   27.   41.   25.   57.   42.   39.\n",
      "   37.   44.   45.   34.   58.   36.   46.   61.   43.   52.   48.   49.\n",
      "   65.   59.   19.   22.   47.   20.   54.   70.   68.   63.   60.   77.\n",
      "   56.   64.   53.   18.   62.   66.   69.   71.   79.   74.   75.   93.\n",
      "   72.  115.   76.   81.   78.  105.   80.   83.   88.  114.  116.   86.\n",
      "   94.   98.   82.   91.   89.  102.   17.   95.  108.   84.   85.]\n",
      "[  29.   52.   24.   26.   25.   28.   32.   43.   34.   47.   39.   35.\n",
      "   42.   33.   44.   31.   48.   58.   45.   49.   59.   56.   50.   38.\n",
      "   37.   40.   53.   55.   30.   46.   36.   27.   54.   62.   51.   41.\n",
      "   57.  115.   21.   61.   18.   67.   66.   19.   64.   60.   20.   22.\n",
      "   23.   63.   72.   77.   70.   65.   69.   71.   68.   75.  116.   74.\n",
      "   73.   82.   98.   76.   81.   88.   80.   79.   83.   93.   86.  114.\n",
      "  105.   78.   84.   95.   89.   94.  108.  102.   17.   85.   90.]\n"
     ]
    }
   ],
   "source": [
    "#remove the nan values and print the unique entries to check they have been removed\n",
    "dfss_nonan = dfss_sub[np.isnan(dfss_sub['age']) == False]\n",
    "print pd.unique(dfss_nonan['age'])\n",
    "#remove the nan values and print the unique entries to check they have been removed\n",
    "dffw_nonan = dffw_sub[np.isnan(dffw_sub['age']) == False]\n",
    "print pd.unique(dffw_nonan['age'])"
   ]
  },
  {
   "cell_type": "markdown",
   "metadata": {},
   "source": [
    "#Histograms of the Fall/Winter and Spring/Summer Ridership by Age"
   ]
  },
  {
   "cell_type": "code",
   "execution_count": 11,
   "metadata": {
    "collapsed": false
   },
   "outputs": [
    {
     "data": {
      "image/png": "[encoded data removed]",
      "text/plain": [
       "<matplotlib.figure.Figure at 0x1092547d0>"
      ]
     },
     "metadata": {},
     "output_type": "display_data"
    },
    {
     "data": {
      "image/png": "[encoded data removed]",
      "text/plain": [
       "<matplotlib.figure.Figure at 0x1092541d0>"
      ]
     },
     "metadata": {},
     "output_type": "display_data"
    }
   ],
   "source": [
    "bins = np.arange(10, 99, 10)\n",
    "dffw_nonan.age.groupby(pd.cut(dffw_nonan.age, bins)).agg([count_nonzero]).plot(kind='bar', title=\"Fall and Winter\")\n",
    "dfss_nonan.age.groupby(pd.cut(dfss_nonan.age, bins)).agg([count_nonzero]).plot(kind='bar', title=\"Spring and Summer\")\n",
    "#Create age distributions based on the bins\n",
    "FW_age_dist = dffw_nonan.age.groupby(pd.cut(dffw_nonan.age, bins)).agg([count_nonzero])\n",
    "SS_age_dist = dfss_nonan.age.groupby(pd.cut(dfss_nonan.age, bins)).agg([count_nonzero])"
   ]
  },
  {
   "cell_type": "markdown",
   "metadata": {},
   "source": [
    "#KS Test for Goodness of Fit"
   ]
  },
  {
   "cell_type": "code",
   "execution_count": 16,
   "metadata": {
    "collapsed": false
   },
   "outputs": [
    {
     "name": "stdout",
     "output_type": "stream",
     "text": [
      " winter, normal fit (1.0, 0.0)\n",
      "summer, normal fit (1.0, 0.0)\n",
      "winter, poisson fit (0.98148385248112213, 0.0)\n",
      "summer, poisson fit (0.98199746746354277, 0.0)\n"
     ]
    }
   ],
   "source": [
    "#compare to normal\n",
    "\n",
    "ksFW1=scipy.stats.kstest(dffw_nonan.age, 'norm')\n",
    "ksSS1=scipy.stats.kstest(dfss_nonan.age, 'norm')\n",
    "print \"winter, normal fit\", ksFW1\n",
    "print \"summer, normal fit\", ksSS1\n",
    "\n",
    "#compare to poisson \n",
    "\n",
    "ksFW2=scipy.stats.kstest(dffw_nonan.age, 'cauchy')\n",
    "ksSS2=scipy.stats.kstest(dfss_nonan.age, 'cauchy')\n",
    "print \"winter, poisson fit\", ksFW2\n",
    "print \"summer, poisson fit\", ksSS2"
   ]
  },
  {
   "cell_type": "markdown",
   "metadata": {},
   "source": [
    "Because the p-value is less than our alpha, we can reject the null hypothesis.  Because the the KS statistic is close to 1 (large) we can also reject the null hypothesis. "
   ]
  },
  {
   "cell_type": "markdown",
   "metadata": {},
   "source": [
    "#Anderson Darling Test for Goodness of Fit"
   ]
  },
  {
   "cell_type": "code",
   "execution_count": 18,
   "metadata": {
    "collapsed": false
   },
   "outputs": [
    {
     "name": "stdout",
     "output_type": "stream",
     "text": [
      "winter, normal fit 38095.030566\n",
      "summer, normal fit 64032.6436819\n",
      "winter, poisson fit 705540.781269\n",
      "summer, poisson fit 1031634.87744\n"
     ]
    }
   ],
   "source": [
    "#compare to normal\n",
    "\n",
    "aFW1=scipy.stats.anderson(dffw_nonan.age, 'norm')\n",
    "aSS1=scipy.stats.anderson(dfss_nonan.age, 'norm')\n",
    "print \"winter, normal fit\", aFW1[0]\n",
    "print \"summer, normal fit\", aSS1[0]\n",
    "\n",
    "#compare to exponential\n",
    "\n",
    "aFW2=scipy.stats.anderson(dffw_nonan.age, 'expon')\n",
    "aSS2=scipy.stats.anderson(dfss_nonan.age, 'expon')\n",
    "print \"winter, poisson fit\", aFW2[0]\n",
    "print \"summer, poisson fit\", aSS2[0]"
   ]
  },
  {
   "cell_type": "markdown",
   "metadata": {
    "collapsed": true
   },
   "source": [
    "Because the statistic for each of these distributions are large, we can reject the null hypothesis.  "
   ]
  }
 ],
 "metadata": {
  "kernelspec": {
   "display_name": "Python 2",
   "language": "python",
   "name": "python2"
  },
  "language_info": {
   "codemirror_mode": {
    "name": "ipython",
    "version": 2
   },
   "file_extension": ".py",
   "mimetype": "text/x-python",
   "name": "python",
   "nbconvert_exporter": "python",
   "pygments_lexer": "ipython2",
   "version": "2.7.10"
  }
 },
 "nbformat": 4,
 "nbformat_minor": 0
}
